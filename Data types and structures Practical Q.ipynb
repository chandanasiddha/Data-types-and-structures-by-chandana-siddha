{
 "cells": [
  {
   "cell_type": "markdown",
   "id": "97e5c338",
   "metadata": {},
   "source": [
    "### Practical Questions:"
   ]
  },
  {
   "cell_type": "markdown",
   "id": "9fdcc218",
   "metadata": {},
   "source": [
    "### 1.Write a code to create a string with your name and print it."
   ]
  },
  {
   "cell_type": "code",
   "execution_count": 1,
   "id": "da384794",
   "metadata": {},
   "outputs": [
    {
     "name": "stdout",
     "output_type": "stream",
     "text": [
      "Chandana Siddha\n",
      "<class 'str'>\n"
     ]
    }
   ],
   "source": [
    "my_name=\"Chandana Siddha\"\n",
    "print(my_name)\n",
    "print(type(my_name))"
   ]
  },
  {
   "cell_type": "markdown",
   "id": "998ea056",
   "metadata": {},
   "source": [
    "### 2.Write a code to find the length of the string \"Hello World\""
   ]
  },
  {
   "cell_type": "code",
   "execution_count": 3,
   "id": "a46daced",
   "metadata": {},
   "outputs": [
    {
     "name": "stdout",
     "output_type": "stream",
     "text": [
      "Hello World\n"
     ]
    },
    {
     "data": {
      "text/plain": [
       "11"
      ]
     },
     "execution_count": 3,
     "metadata": {},
     "output_type": "execute_result"
    }
   ],
   "source": [
    "string=\"Hello World\"\n",
    "print(string)\n",
    "len(string) # len() defines the length of the value in variable."
   ]
  },
  {
   "cell_type": "markdown",
   "id": "dfe7a118",
   "metadata": {},
   "source": [
    "### 3.Write a code to slice the first 3 characters from the string \"Python Programming\""
   ]
  },
  {
   "cell_type": "code",
   "execution_count": 4,
   "id": "cefc9a9c",
   "metadata": {},
   "outputs": [
    {
     "name": "stdout",
     "output_type": "stream",
     "text": [
      "The first 3 characters are: Pyt\n"
     ]
    }
   ],
   "source": [
    "my_string = \"Python Programming\"\n",
    "# Slice the first 3 characters\n",
    "first_three_chars = my_string[:3]\n",
    "# Print the sliced characters\n",
    "print(\"The first 3 characters are:\", first_three_chars)"
   ]
  },
  {
   "cell_type": "markdown",
   "id": "3bb6989c",
   "metadata": {},
   "source": [
    "### 4.Write a code to convert the string \"hello\" to uppercase."
   ]
  },
  {
   "cell_type": "code",
   "execution_count": 5,
   "id": "0a51afdf",
   "metadata": {},
   "outputs": [
    {
     "name": "stdout",
     "output_type": "stream",
     "text": [
      "The uppercase conversion of hello is: HELLO\n"
     ]
    }
   ],
   "source": [
    "string=\"hello\"\n",
    "convert_string= string.upper()\n",
    "print(\"The uppercase conversion of hello is:\",convert_string)"
   ]
  },
  {
   "cell_type": "markdown",
   "id": "893a7a88",
   "metadata": {},
   "source": [
    "### 5.Write a code to replace the word \"apple\" with \"orange\" in the string \"I like apple\""
   ]
  },
  {
   "cell_type": "code",
   "execution_count": 6,
   "id": "c1211d31",
   "metadata": {},
   "outputs": [
    {
     "name": "stdout",
     "output_type": "stream",
     "text": [
      "The new string is: I like orange\n"
     ]
    }
   ],
   "source": [
    "string = \"I like apple\"\n",
    "# Replace \"apple\" with \"orange\"\n",
    "new_string = string.replace(\"apple\", \"orange\")\n",
    "# Print the new string\n",
    "print(\"The new string is:\", new_string)"
   ]
  },
  {
   "cell_type": "markdown",
   "id": "716ddade",
   "metadata": {},
   "source": [
    "### 6.Write a code to create a list with numbers 1 to 5 and print it."
   ]
  },
  {
   "cell_type": "code",
   "execution_count": 7,
   "id": "d01ea4d1",
   "metadata": {},
   "outputs": [
    {
     "name": "stdout",
     "output_type": "stream",
     "text": [
      "[1, 2, 3, 4, 5]\n"
     ]
    }
   ],
   "source": [
    "def createList(r1, r2):\n",
    "    return list(range(r1, r2+1))\n",
    "\n",
    "r1, r2 = 1, 5\n",
    "print(createList(r1, r2))"
   ]
  },
  {
   "cell_type": "markdown",
   "id": "79a2aeb2",
   "metadata": {},
   "source": [
    "### 7.Write a code to append the number 10 to the list [1, 2, 3, 4]"
   ]
  },
  {
   "cell_type": "code",
   "execution_count": 9,
   "id": "ebf5ad9f",
   "metadata": {},
   "outputs": [
    {
     "name": "stdout",
     "output_type": "stream",
     "text": [
      "The appended list is: [1, 2, 3, 4, 10]\n"
     ]
    }
   ],
   "source": [
    "my_list = [1, 2, 3, 4]\n",
    "# Append the number 10 to the list\n",
    "my_list.append(10)\n",
    "print(\"The appended list is:\", my_list)"
   ]
  },
  {
   "cell_type": "markdown",
   "id": "244bb6c2",
   "metadata": {},
   "source": [
    "### 8.Write a code to remove the number 3 from the list [1, 2, 3, 4, 5]"
   ]
  },
  {
   "cell_type": "code",
   "execution_count": 11,
   "id": "5fb7b552",
   "metadata": {},
   "outputs": [
    {
     "name": "stdout",
     "output_type": "stream",
     "text": [
      "The new list is: [1, 2, 4, 5]\n"
     ]
    }
   ],
   "source": [
    "my_list = [1, 2, 3, 4, 5]\n",
    "# Remove the number 3 from the list\n",
    "my_list.remove(3)\n",
    "print(\"The new list is:\", my_list)"
   ]
  },
  {
   "cell_type": "markdown",
   "id": "0941158a",
   "metadata": {},
   "source": [
    "### 9.Write a code to access the second element in the list ['a', 'b', 'c', 'd']"
   ]
  },
  {
   "cell_type": "code",
   "execution_count": 12,
   "id": "3cbf608d",
   "metadata": {},
   "outputs": [
    {
     "name": "stdout",
     "output_type": "stream",
     "text": [
      "The second element is: b\n"
     ]
    }
   ],
   "source": [
    "my_list = ['a', 'b', 'c', 'd']\n",
    "# Access the second element (index 1)\n",
    "second_element = my_list[1]\n",
    "print(\"The second element is:\", second_element)"
   ]
  },
  {
   "cell_type": "markdown",
   "id": "0aea2542",
   "metadata": {},
   "source": [
    "### 10.Write a code to reverse the list [10, 20, 30, 40, 50]."
   ]
  },
  {
   "cell_type": "code",
   "execution_count": 14,
   "id": "4ed185b4",
   "metadata": {},
   "outputs": [
    {
     "name": "stdout",
     "output_type": "stream",
     "text": [
      "The reversed list is: ['d', 'c', 'b', 'a']\n"
     ]
    }
   ],
   "source": [
    "my_list = ['a', 'b', 'c', 'd']\n",
    "# Reverse the list\n",
    "reversed_list = my_list[::-1]\n",
    "print(\"The reversed list is:\", reversed_list)"
   ]
  },
  {
   "cell_type": "markdown",
   "id": "97295e2f",
   "metadata": {},
   "source": [
    "### 11.Write a code to create a tuple with the elements 10, 20, 30 and print it."
   ]
  },
  {
   "cell_type": "code",
   "execution_count": 15,
   "id": "b590d194",
   "metadata": {},
   "outputs": [
    {
     "name": "stdout",
     "output_type": "stream",
     "text": [
      "The tuple is: (10, 20, 30)\n"
     ]
    }
   ],
   "source": [
    "# Create a tuple with elements 10, 20, and 30\n",
    "my_tuple = (10, 20, 30)\n",
    "print(\"The tuple is:\", my_tuple)"
   ]
  },
  {
   "cell_type": "markdown",
   "id": "9d4318c2",
   "metadata": {},
   "source": [
    "### 12.Write a code to access the first element of the tuple ('apple', 'banana', 'cherry')."
   ]
  },
  {
   "cell_type": "code",
   "execution_count": 16,
   "id": "644102e8",
   "metadata": {},
   "outputs": [
    {
     "name": "stdout",
     "output_type": "stream",
     "text": [
      "The first element is: apple\n"
     ]
    }
   ],
   "source": [
    "# Create the tuple\n",
    "my_tuple = ('apple', 'banana', 'cherry')\n",
    "\n",
    "# Access the first element (index 0)\n",
    "first_element = my_tuple[0]\n",
    "print(\"The first element is:\", first_element)"
   ]
  },
  {
   "cell_type": "markdown",
   "id": "a762143b",
   "metadata": {},
   "source": [
    "### 13.Write a code to count how many times the number 2 appears in the tuple (1, 2, 3, 2, 4, 2)."
   ]
  },
  {
   "cell_type": "code",
   "execution_count": 17,
   "id": "f17febfe",
   "metadata": {},
   "outputs": [
    {
     "name": "stdout",
     "output_type": "stream",
     "text": [
      "The number 2 appears 3 times in the tuple\n"
     ]
    }
   ],
   "source": [
    "# Create the tuple\n",
    "my_tuple = (1, 2, 3, 2, 4, 2)\n",
    "\n",
    "# Count how many times the number 2 appears in the tuple\n",
    "count_of_twos = my_tuple.count(2)\n",
    "\n",
    "print(\"The number 2 appears\", count_of_twos, \"times in the tuple\")"
   ]
  },
  {
   "cell_type": "markdown",
   "id": "5d267fd3",
   "metadata": {},
   "source": [
    "### 14.Write a code to find the index of the element \"cat\" in the tuple ('dog', 'cat', 'rabbit')."
   ]
  },
  {
   "cell_type": "code",
   "execution_count": 18,
   "id": "7d05aa8a",
   "metadata": {},
   "outputs": [
    {
     "name": "stdout",
     "output_type": "stream",
     "text": [
      "The index of 'cat' is: 1\n"
     ]
    }
   ],
   "source": [
    "# Create the tuple\n",
    "my_tuple = ('dog', 'cat', 'rabbit')\n",
    "\n",
    "# Find the index of the element \"cat\"\n",
    "index_of_cat = my_tuple.index('cat')\n",
    "\n",
    "print(\"The index of 'cat' is:\", index_of_cat)"
   ]
  },
  {
   "cell_type": "markdown",
   "id": "55398418",
   "metadata": {},
   "source": [
    "### 15.Write a code to check if the element \"banana\" is in the tuple ('apple', 'orange', 'banana')."
   ]
  },
  {
   "cell_type": "code",
   "execution_count": 19,
   "id": "be0719e6",
   "metadata": {},
   "outputs": [
    {
     "name": "stdout",
     "output_type": "stream",
     "text": [
      "Is 'banana' in the tuple? True\n"
     ]
    }
   ],
   "source": [
    "my_tuple = ('apple', 'orange', 'banana')\n",
    "\n",
    "# Check if \"banana\" is in the tuple\n",
    "is_banana_in_tuple = 'banana' in my_tuple\n",
    "\n",
    "print(\"Is 'banana' in the tuple?\", is_banana_in_tuple)"
   ]
  },
  {
   "cell_type": "markdown",
   "id": "fde55cb0",
   "metadata": {},
   "source": [
    "### 16.Write a code to create a set with the elements 1, 2, 3, 4, 5 and print it."
   ]
  },
  {
   "cell_type": "code",
   "execution_count": 24,
   "id": "f9d02e3f",
   "metadata": {},
   "outputs": [
    {
     "name": "stdout",
     "output_type": "stream",
     "text": [
      "The set is: {1, 2, 3, 4, 5}\n",
      "<class 'set'>\n"
     ]
    }
   ],
   "source": [
    "# Create a set with elements 1, 2, 3, 4, 5\n",
    "my_set = {1, 2, 3, 4, 5}\n",
    "print(\"The set is:\", my_set)\n",
    "print(type(my_set))"
   ]
  },
  {
   "cell_type": "markdown",
   "id": "68c57de4",
   "metadata": {},
   "source": [
    "### 17.Write a code to add the element 6 to the set {1, 2, 3, 4}."
   ]
  },
  {
   "cell_type": "code",
   "execution_count": 21,
   "id": "c8900f3b",
   "metadata": {},
   "outputs": [
    {
     "name": "stdout",
     "output_type": "stream",
     "text": [
      "The new set is: {1, 2, 3, 4, 6}\n"
     ]
    }
   ],
   "source": [
    "# Create the set\n",
    "my_set = {1, 2, 3, 4}\n",
    "# Add the element 6 to the set\n",
    "my_set.add(6)\n",
    "print(\"The new set is:\", my_set)"
   ]
  },
  {
   "cell_type": "markdown",
   "id": "6221a359",
   "metadata": {},
   "source": [
    "### 18.Write a code to create a tuple with the elements 10, 20, 30 and print it."
   ]
  },
  {
   "cell_type": "code",
   "execution_count": 23,
   "id": "e912890f",
   "metadata": {},
   "outputs": [
    {
     "name": "stdout",
     "output_type": "stream",
     "text": [
      "The tuple is: (10, 20, 30)\n",
      "<class 'tuple'>\n"
     ]
    }
   ],
   "source": [
    "# Create a tuple with elements 10, 20, 30\n",
    "my_tuple = (10, 20, 30)\n",
    "\n",
    "print(\"The tuple is:\", my_tuple)\n",
    "print(type(my_tuple))"
   ]
  },
  {
   "cell_type": "markdown",
   "id": "1238b27a",
   "metadata": {},
   "source": [
    "### 19.Write a code to access the first element of the tuple ('apple', 'banana', 'cherry')."
   ]
  },
  {
   "cell_type": "code",
   "execution_count": 25,
   "id": "430c19f2",
   "metadata": {},
   "outputs": [
    {
     "name": "stdout",
     "output_type": "stream",
     "text": [
      "The first element is: apple\n"
     ]
    }
   ],
   "source": [
    "# Create the tuple\n",
    "my_tuple = ('apple', 'banana', 'cherry')\n",
    "\n",
    "# Access the first element (index 0)\n",
    "first_element = my_tuple[0]\n",
    "\n",
    "print(\"The first element is:\", first_element)"
   ]
  },
  {
   "cell_type": "markdown",
   "id": "82149e1c",
   "metadata": {},
   "source": [
    "### 20.Write a code to count how many times the number 2 appears in the tuple (1, 2, 3, 2, 4, 2)."
   ]
  },
  {
   "cell_type": "code",
   "execution_count": 26,
   "id": "45704459",
   "metadata": {},
   "outputs": [
    {
     "name": "stdout",
     "output_type": "stream",
     "text": [
      "The number 2 appears 3 times in the tuple\n"
     ]
    }
   ],
   "source": [
    "my_tuple = (1, 2, 3, 2, 4, 2)\n",
    "\n",
    "# Count how many times the number 2 appears in the tuple\n",
    "count_of_twos = my_tuple.count(2)\n",
    "print(\"The number 2 appears\", count_of_twos, \"times in the tuple\")"
   ]
  },
  {
   "cell_type": "markdown",
   "id": "8de58b7b",
   "metadata": {},
   "source": [
    "### 21. Write a code to find the index of the element \"cat\" in the tuple ('dog', 'cat', 'rabbit')."
   ]
  },
  {
   "cell_type": "code",
   "execution_count": 27,
   "id": "45638f6e",
   "metadata": {},
   "outputs": [
    {
     "name": "stdout",
     "output_type": "stream",
     "text": [
      "The index of 'cat' is: 1\n"
     ]
    }
   ],
   "source": [
    "# Create the tuple\n",
    "my_tuple = ('dog', 'cat', 'rabbit')\n",
    "\n",
    "# Find the index of the element \"cat\"\n",
    "index_of_cat = my_tuple.index('cat')\n",
    "\n",
    "print(\"The index of 'cat' is:\", index_of_cat)"
   ]
  },
  {
   "cell_type": "markdown",
   "id": "4e99a4e3",
   "metadata": {},
   "source": [
    "### 22. Write a code to check if the element \"banana\" is in the tuple ('apple', 'orange', 'banana')."
   ]
  },
  {
   "cell_type": "code",
   "execution_count": 28,
   "id": "46b616fb",
   "metadata": {},
   "outputs": [
    {
     "name": "stdout",
     "output_type": "stream",
     "text": [
      "Is 'banana' in the tuple? True\n"
     ]
    }
   ],
   "source": [
    "my_tuple = ('apple', 'orange', 'banana')\n",
    "\n",
    "# Check if \"banana\" is in the tuple\n",
    "is_banana_in_tuple = 'banana' in my_tuple\n",
    "\n",
    "print(\"Is 'banana' in the tuple?\", is_banana_in_tuple)"
   ]
  },
  {
   "cell_type": "markdown",
   "id": "3e432d93",
   "metadata": {},
   "source": [
    "### 23. Write a code to create a set with the elements 1, 2, 3, 4, 5 and print it."
   ]
  },
  {
   "cell_type": "code",
   "execution_count": 29,
   "id": "5e0e7554",
   "metadata": {},
   "outputs": [
    {
     "name": "stdout",
     "output_type": "stream",
     "text": [
      "The set is: {1, 2, 3, 4, 5}\n",
      "<class 'set'>\n"
     ]
    }
   ],
   "source": [
    "# Create a set with elements 1, 2, 3, 4, 5\n",
    "my_set = {1, 2, 3, 4, 5}\n",
    "print(\"The set is:\", my_set)\n",
    "print(type(my_set))"
   ]
  },
  {
   "cell_type": "markdown",
   "id": "e81ce7f2",
   "metadata": {},
   "source": [
    "### 24. Write a code to add the element 6 to the set {1, 2, 3, 4}"
   ]
  },
  {
   "cell_type": "code",
   "execution_count": 30,
   "id": "7d26c092",
   "metadata": {},
   "outputs": [
    {
     "name": "stdout",
     "output_type": "stream",
     "text": [
      "The new set is: {1, 2, 3, 4, 6}\n"
     ]
    }
   ],
   "source": [
    "# Create the set\n",
    "my_set = {1, 2, 3, 4}\n",
    "# Add the element 6 to the set\n",
    "my_set.add(6)\n",
    "print(\"The new set is:\", my_set)"
   ]
  }
 ],
 "metadata": {
  "kernelspec": {
   "display_name": "Python 3 (ipykernel)",
   "language": "python",
   "name": "python3"
  },
  "language_info": {
   "codemirror_mode": {
    "name": "ipython",
    "version": 3
   },
   "file_extension": ".py",
   "mimetype": "text/x-python",
   "name": "python",
   "nbconvert_exporter": "python",
   "pygments_lexer": "ipython3",
   "version": "3.11.4"
  }
 },
 "nbformat": 4,
 "nbformat_minor": 5
}
