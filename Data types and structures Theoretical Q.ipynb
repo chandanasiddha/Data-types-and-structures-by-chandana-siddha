{
 "cells": [
  {
   "cell_type": "markdown",
   "id": "adca6acc",
   "metadata": {},
   "source": [
    "### Theoretical Questions"
   ]
  },
  {
   "cell_type": "markdown",
   "id": "de08cc67",
   "metadata": {},
   "source": [
    "### 1.What are data structures, and why are they important?"
   ]
  },
  {
   "cell_type": "raw",
   "id": "b83fa1e9",
   "metadata": {},
   "source": [
    "Data structures in Python are specialized formats or containers used to store and organize data efficiently.They provide various ways to store, access, and manipulate data according to specific needs. \n",
    "They are important to manage large amount of data and solve complex problems."
   ]
  },
  {
   "cell_type": "markdown",
   "id": "453cb750",
   "metadata": {},
   "source": [
    "### 2.Explain the difference between mutable and immutable data types with examples?"
   ]
  },
  {
   "cell_type": "raw",
   "id": "b168d5a4",
   "metadata": {},
   "source": [
    "Mutable types are like lists, dictionaries they can be changed after creation, while immutable types are strings, tuples cannot be altered once defined."
   ]
  },
  {
   "cell_type": "code",
   "execution_count": 5,
   "id": "8ad3be28",
   "metadata": {},
   "outputs": [
    {
     "name": "stdout",
     "output_type": "stream",
     "text": [
      "['apple', 'banana', 'mango', 'tamato', 'grapes']\n",
      "<class 'list'>\n",
      "tamato\n",
      "['apple', 'banana', 'mango', 'papaya', 'grapes']\n"
     ]
    }
   ],
   "source": [
    "#lists are mutable\n",
    "c = ['apple','banana','mango','tamato','grapes']\n",
    "print(c)\n",
    "print(type(c))\n",
    "print(c[3])\n",
    "c[3] = \"papaya\"\n",
    "print(c)"
   ]
  },
  {
   "cell_type": "code",
   "execution_count": 6,
   "id": "d1288fce",
   "metadata": {},
   "outputs": [
    {
     "name": "stdout",
     "output_type": "stream",
     "text": [
      "(10, 20, 'Hello', 30, 40)\n",
      "<class 'tuple'>\n",
      "5\n"
     ]
    },
    {
     "ename": "TypeError",
     "evalue": "'tuple' object does not support item assignment",
     "output_type": "error",
     "traceback": [
      "\u001b[1;31m---------------------------------------------------------------------------\u001b[0m",
      "\u001b[1;31mTypeError\u001b[0m                                 Traceback (most recent call last)",
      "Cell \u001b[1;32mIn[6], line 6\u001b[0m\n\u001b[0;32m      4\u001b[0m \u001b[38;5;28mprint\u001b[39m(\u001b[38;5;28mtype\u001b[39m(a))\n\u001b[0;32m      5\u001b[0m \u001b[38;5;28mprint\u001b[39m(\u001b[38;5;28mlen\u001b[39m(a))\n\u001b[1;32m----> 6\u001b[0m a[\u001b[38;5;241m1\u001b[39m] \u001b[38;5;241m=\u001b[39m \u001b[38;5;241m22\u001b[39m\n\u001b[0;32m      7\u001b[0m \u001b[38;5;28mprint\u001b[39m(a)\n",
      "\u001b[1;31mTypeError\u001b[0m: 'tuple' object does not support item assignment"
     ]
    }
   ],
   "source": [
    "#tuples are immutables\n",
    "a = (10,20,'Hello',30,40)\n",
    "print(a)\n",
    "print(type(a))\n",
    "print(len(a))\n",
    "a[1] = 22\n",
    "print(a)"
   ]
  },
  {
   "cell_type": "code",
   "execution_count": 7,
   "id": "59ac6ef4",
   "metadata": {},
   "outputs": [
    {
     "name": "stdout",
     "output_type": "stream",
     "text": [
      "chandana\n"
     ]
    },
    {
     "ename": "TypeError",
     "evalue": "'str' object does not support item assignment",
     "output_type": "error",
     "traceback": [
      "\u001b[1;31m---------------------------------------------------------------------------\u001b[0m",
      "\u001b[1;31mTypeError\u001b[0m                                 Traceback (most recent call last)",
      "Cell \u001b[1;32mIn[7], line 4\u001b[0m\n\u001b[0;32m      2\u001b[0m a\u001b[38;5;241m=\u001b[39m\u001b[38;5;124m\"\u001b[39m\u001b[38;5;124mchandana\u001b[39m\u001b[38;5;124m\"\u001b[39m\n\u001b[0;32m      3\u001b[0m \u001b[38;5;28mprint\u001b[39m(a)\n\u001b[1;32m----> 4\u001b[0m a[\u001b[38;5;241m2\u001b[39m]\u001b[38;5;241m=\u001b[39m \u001b[38;5;124m\"\u001b[39m\u001b[38;5;124mr\u001b[39m\u001b[38;5;124m\"\u001b[39m\n\u001b[0;32m      5\u001b[0m \u001b[38;5;28mprint\u001b[39m(a)\n",
      "\u001b[1;31mTypeError\u001b[0m: 'str' object does not support item assignment"
     ]
    }
   ],
   "source": [
    "# string is immutable\n",
    "a=\"chandana\"\n",
    "print(a)\n",
    "a[2]= \"r\"\n",
    "print(a)"
   ]
  },
  {
   "cell_type": "markdown",
   "id": "e6f0e31a",
   "metadata": {},
   "source": [
    "### 3.What are the main differences between lists and tuples in Python?"
   ]
  },
  {
   "cell_type": "raw",
   "id": "73224465",
   "metadata": {},
   "source": [
    "The main difference between lists and tuples in python are that:\n",
    "List are mutable that means it can be changed after creation.We use [] square brackets to define list.In list we can use range methods like appending,inserting and removing of values or elements.\n",
    "Tuples are immutables that cannot be changed or altered and defined in () parenthesis.It is used for read only operation of specific elements. "
   ]
  },
  {
   "cell_type": "markdown",
   "id": "358be37e",
   "metadata": {},
   "source": [
    "### 4.Describe how dictionaries store data?"
   ]
  },
  {
   "cell_type": "raw",
   "id": "a8ad9763",
   "metadata": {},
   "source": [
    "Dictionary is a data structure that stores data as key value pairs.Dictionaries are order of insertion but not allow duplicates and also unordered that items do not have a defined order.We can add or remove items from the dictionary after creation beacuse of its mutability."
   ]
  },
  {
   "cell_type": "code",
   "execution_count": 18,
   "id": "3965acf4",
   "metadata": {},
   "outputs": [
    {
     "name": "stdout",
     "output_type": "stream",
     "text": [
      "{'name': 'Chandana', 'age': 20, 'native': 'Hyderabad'}\n",
      "<class 'dict'>\n",
      "3\n"
     ]
    }
   ],
   "source": [
    "mydict= dict(name=\"Chandana\",age= 20,native=\"Hyderabad\")\n",
    "print(mydict)\n",
    "print(type(mydict))\n",
    "print(len(mydict))"
   ]
  },
  {
   "cell_type": "markdown",
   "id": "beb2c10b",
   "metadata": {},
   "source": [
    "### 5.Why might you use a set instead of a list in Python?"
   ]
  },
  {
   "cell_type": "raw",
   "id": "197c224e",
   "metadata": {},
   "source": [
    "Set is implemented by a hash-table data structure. For this reason, checking if a specific value exists in the set, is instant O(1) time, requires no iteration. On the other hand to check if a value is included in a list, all elements must be checked in a loop, so that is O(n) time."
   ]
  },
  {
   "cell_type": "markdown",
   "id": "7379ec3d",
   "metadata": {},
   "source": [
    "### 6.What is a string in Python, and how is it different from a list?"
   ]
  },
  {
   "cell_type": "raw",
   "id": "7007617a",
   "metadata": {},
   "source": [
    "String ia a sequence of aplhabets, numbers or any characters between single or double quotes.List is a sequence of items like integer, string ,float and boolean.\n",
    "String is immutable, besides list is mutable.\n",
    "Lists can be modified by adding or removing elements, concatenating with other lists, slicing, and more. Strings have specific methods for string manipulation, such as concatenation (+), slicing, searching for substrings, and various formatting operations."
   ]
  },
  {
   "cell_type": "markdown",
   "id": "3603226b",
   "metadata": {},
   "source": [
    "### 7.How do tuples ensure data integrity in Python?"
   ]
  },
  {
   "cell_type": "raw",
   "id": "77fbfe44",
   "metadata": {},
   "source": [
    "Tuples are immutable to ensure that their contents remain constant throughout their block of code, guaranteeing data integrity and reliability. This immutability allows tuples to be used as keys in dictionaries and elements in sets, as they can be hashed."
   ]
  },
  {
   "cell_type": "markdown",
   "id": "b2700db2",
   "metadata": {},
   "source": [
    "### 8.What is a hash table, and how does it relate to dictionaries in Python?"
   ]
  },
  {
   "cell_type": "raw",
   "id": "6fd7545b",
   "metadata": {},
   "source": [
    "Hash table is a data structure that stores key value pairs.It allows quick access to the data.\n",
    "Dictionaries are associative arrays that stores key value pairs such as numbers, words or pictures.\n",
    "Hash tables helps dictionary to store values in it."
   ]
  },
  {
   "cell_type": "markdown",
   "id": "f841a443",
   "metadata": {},
   "source": [
    "### 9.Can lists contain different data types in Python?"
   ]
  },
  {
   "cell_type": "raw",
   "id": "a91d2c8a",
   "metadata": {},
   "source": [
    "Yes, list can contain different data types in python.\n",
    "We can see it with a suitable code.."
   ]
  },
  {
   "cell_type": "code",
   "execution_count": 3,
   "id": "6f0085a8",
   "metadata": {},
   "outputs": [
    {
     "name": "stdout",
     "output_type": "stream",
     "text": [
      "['chand', 394, True, (4+2j), 4.91]\n",
      "<class 'list'>\n",
      "chand <class 'str'>\n",
      "394 <class 'int'>\n",
      "True <class 'bool'>\n",
      "(4+2j) <class 'complex'>\n",
      "4.91 <class 'float'>\n"
     ]
    }
   ],
   "source": [
    "my_list=[\"chand\",394,True,2j+4,4.91]\n",
    "print(my_list)\n",
    "print(type(my_list))\n",
    "for i in my_list:\n",
    "    print (i,type(i))"
   ]
  },
  {
   "cell_type": "markdown",
   "id": "e67c17d6",
   "metadata": {},
   "source": [
    "### 10.Explain why strings are immutable in Python?"
   ]
  },
  {
   "cell_type": "raw",
   "id": "73167fd5",
   "metadata": {},
   "source": [
    "Strings are immutable means they are cannot be changed after creation."
   ]
  },
  {
   "cell_type": "code",
   "execution_count": 4,
   "id": "e11aa1ae",
   "metadata": {},
   "outputs": [
    {
     "ename": "TypeError",
     "evalue": "'str' object does not support item assignment",
     "output_type": "error",
     "traceback": [
      "\u001b[1;31m---------------------------------------------------------------------------\u001b[0m",
      "\u001b[1;31mTypeError\u001b[0m                                 Traceback (most recent call last)",
      "Cell \u001b[1;32mIn[4], line 2\u001b[0m\n\u001b[0;32m      1\u001b[0m my_str\u001b[38;5;241m=\u001b[39m\u001b[38;5;124m\"\u001b[39m\u001b[38;5;124mImmutable\u001b[39m\u001b[38;5;124m\"\u001b[39m\n\u001b[1;32m----> 2\u001b[0m my_str[\u001b[38;5;241m0\u001b[39m]\u001b[38;5;241m=\u001b[39m\u001b[38;5;124m\"\u001b[39m\u001b[38;5;124mk\u001b[39m\u001b[38;5;124m\"\u001b[39m\n\u001b[0;32m      3\u001b[0m \u001b[38;5;28mprint\u001b[39m(my_str)\n",
      "\u001b[1;31mTypeError\u001b[0m: 'str' object does not support item assignment"
     ]
    }
   ],
   "source": [
    "my_str=\"Immutable\"\n",
    "my_str[0]=\"k\"\n",
    "print(my_str)"
   ]
  },
  {
   "cell_type": "markdown",
   "id": "4500416f",
   "metadata": {},
   "source": [
    "### 11.What advantages do dictionaries offer over lists for certain tasks?"
   ]
  },
  {
   "cell_type": "raw",
   "id": "7e5fa205",
   "metadata": {},
   "source": [
    "Dictionaries can be more useful than lists for certain tasks because they are faster for lookup operations, easier to read, and can store complex data."
   ]
  },
  {
   "cell_type": "markdown",
   "id": "b3417c2a",
   "metadata": {},
   "source": [
    "### 12.Describe a scenario where using a tuple would be preferable over a list?"
   ]
  },
  {
   "cell_type": "raw",
   "id": "4acda92f",
   "metadata": {},
   "source": [
    "Tuples can't be changed after they're created, but lists can be altered.Tuples use less memory than lists. They are also a bit faster, especially when you're just looking up values.So,if we have data that don't want to change, it's better to use tuples instead of lists."
   ]
  },
  {
   "cell_type": "markdown",
   "id": "51d6852d",
   "metadata": {},
   "source": [
    "### 13.How do sets handle duplicate values in Python"
   ]
  },
  {
   "cell_type": "raw",
   "id": "9982317b",
   "metadata": {},
   "source": [
    "Sets are immutable and do not duplicate values.Converting a list into a set removes the duplicates. Changing the set into a list yields a new list without duplicates."
   ]
  },
  {
   "cell_type": "code",
   "execution_count": 9,
   "id": "2e25901b",
   "metadata": {},
   "outputs": [
    {
     "name": "stdout",
     "output_type": "stream",
     "text": [
      "[['grape', 'apple', 'mango', 'banana']]\n",
      "['banana', 'mango', 'apple', 'grape']\n"
     ]
    }
   ],
   "source": [
    "fruits=[\"grape\",\"apple\",\"mango\",\"banana\"]\n",
    "my_list=[fruits]\n",
    "print(my_list)\n",
    "my_list=list(set(fruits))\n",
    "print(my_list)"
   ]
  },
  {
   "cell_type": "markdown",
   "id": "fe51714e",
   "metadata": {},
   "source": [
    "### 14.How does the “in” keyword work differently for lists and dictionaries?"
   ]
  },
  {
   "cell_type": "code",
   "execution_count": 14,
   "id": "e0076a2e",
   "metadata": {},
   "outputs": [
    {
     "name": "stdout",
     "output_type": "stream",
     "text": [
      "True\n",
      "False\n"
     ]
    }
   ],
   "source": [
    "# ain b returns True if a is included in b, and False otherwise.\n",
    "print(1 in [0, 1, 2])\n",
    "print(20 in [0, 1, 2])"
   ]
  },
  {
   "cell_type": "code",
   "execution_count": 12,
   "id": "1ced7db6",
   "metadata": {},
   "outputs": [
    {
     "name": "stdout",
     "output_type": "stream",
     "text": [
      "True\n",
      "False\n"
     ]
    }
   ],
   "source": [
    "#The in operator for dictionaries (dict) checks for the presence of a key.\n",
    "Dict= {'value': '1', 'key': 'dict', 'apple': 'fruit'}\n",
    "\n",
    "print('value' in Dict)\n",
    "\n",
    "print('key1' in Dict)"
   ]
  },
  {
   "cell_type": "markdown",
   "id": "65917941",
   "metadata": {},
   "source": [
    "### 15.Can you modify the elements of a tuple? Explain why or why not?"
   ]
  },
  {
   "cell_type": "raw",
   "id": "a3a66a49",
   "metadata": {},
   "source": [
    "No, modifying the elements of a tuple in Python is not possible because tuples are \"immutable,\" meaning once created cannot be changed, added, or removed; unlike lists which are mutable and allow for modifications"
   ]
  },
  {
   "cell_type": "markdown",
   "id": "361bd2d5",
   "metadata": {},
   "source": [
    "### 16.What is a nested dictionary, and give an example of its use case?"
   ]
  },
  {
   "cell_type": "raw",
   "id": "632bdbcf",
   "metadata": {},
   "source": [
    "A nested dictionary in Python is a dictionary that is stored within another dictionary.It is a collection of dictionaries that are combined into one single dictionary."
   ]
  },
  {
   "cell_type": "code",
   "execution_count": 17,
   "id": "040c8448",
   "metadata": {},
   "outputs": [
    {
     "name": "stdout",
     "output_type": "stream",
     "text": [
      "{'father': {'name': 'Harsha', 'year': 1991}, 'mother': {'name': 'Sneha', 'year': 2000}, 'child': {'name': 'Arav', 'year': 2022}}\n"
     ]
    }
   ],
   "source": [
    "myfamily = {\n",
    "  \"father\" : {\n",
    "    \"name\" : \"Harsha\",\n",
    "    \"year\" : 1991\n",
    "  },\n",
    "  \"mother\" : {\n",
    "    \"name\" : \"Sneha\",\n",
    "    \"year\" : 2000\n",
    "  },\n",
    "  \"child\" : {\n",
    "    \"name\" : \"Arav\",\n",
    "    \"year\" : 2022\n",
    "  }\n",
    "}\n",
    "print(myfamily)"
   ]
  },
  {
   "cell_type": "markdown",
   "id": "42e7c774",
   "metadata": {},
   "source": [
    "### 17.Describe the time complexity of accessing elements in a dictionary?"
   ]
  },
  {
   "cell_type": "raw",
   "id": "87044ea4",
   "metadata": {},
   "source": [
    "The time complexity of accessing an element in a Python dictionary is O(1), which means it takes a constant amount of time. This is because dictionaries use a hash table internally, which allows for constant time lookup.It's usually expressed as a function of the size of the input."
   ]
  },
  {
   "cell_type": "markdown",
   "id": "bb31d4aa",
   "metadata": {},
   "source": [
    "### 18.In what situations are lists preferred over dictionaries?"
   ]
  },
  {
   "cell_type": "raw",
   "id": "44ddd01f",
   "metadata": {},
   "source": [
    "In a situation where programmer wantes store multiple items in one variable like a sequence of order uses lists.On other hand in dictionary need specified username to store values.\n",
    "To perform quick actions with multiple items list is preferred over dictionary."
   ]
  },
  {
   "cell_type": "markdown",
   "id": "afaca863",
   "metadata": {},
   "source": [
    "### 19.Why are dictionaries considered unordered, and how does that affect data retrieval?"
   ]
  },
  {
   "cell_type": "raw",
   "id": "fab45109",
   "metadata": {},
   "source": [
    "A dictionary is termed an unordered collection of objects because dictionaries do not maintain any inherent order of the items based on when they were added. The items do not have a defined order and you cannot refer to an item by using an index in dictionary."
   ]
  },
  {
   "cell_type": "markdown",
   "id": "af1f24c5",
   "metadata": {},
   "source": [
    "### 20.Explain the difference between a list and a dictionary in terms of data retrieval?"
   ]
  },
  {
   "cell_type": "raw",
   "id": "59191057",
   "metadata": {},
   "source": [
    "A list can store multiple items in one variable and be created using square brackets.It allows duplicate items so data retrieval is not possible.\n",
    "Dictionaries are used to store data values in key:value pairs.A dictionary is an ordered, changeable collection, and does not allow duplicates.So data retreival is possible in Dictionaries."
   ]
  }
 ],
 "metadata": {
  "kernelspec": {
   "display_name": "Python 3 (ipykernel)",
   "language": "python",
   "name": "python3"
  },
  "language_info": {
   "codemirror_mode": {
    "name": "ipython",
    "version": 3
   },
   "file_extension": ".py",
   "mimetype": "text/x-python",
   "name": "python",
   "nbconvert_exporter": "python",
   "pygments_lexer": "ipython3",
   "version": "3.11.4"
  },
  "widgets": {
   "application/vnd.jupyter.widget-state+json": {
    "state": {},
    "version_major": 2,
    "version_minor": 0
   }
  }
 },
 "nbformat": 4,
 "nbformat_minor": 5
}
